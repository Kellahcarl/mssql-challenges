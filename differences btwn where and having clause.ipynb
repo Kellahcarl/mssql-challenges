{
    "metadata": {
        "kernelspec": {
            "name": "SQL",
            "display_name": "SQL",
            "language": "sql"
        },
        "language_info": {
            "name": "sql",
            "version": ""
        }
    },
    "nbformat_minor": 2,
    "nbformat": 4,
    "cells": [
        {
            "cell_type": "code",
            "source": [
                "\t-- WHERE Clause is used to filter the records from the table based on the specified condition.\tHAVING Clause is used to filter record from the groups based on the specified condition.\n",
                "\t-- WHERE Clause can be used without GROUP BY Clause\tHAVING Clause cannot be used without GROUP BY Clause\n",
                "\t-- WHERE Clause implements in row operations\tHAVING Clause implements in column operation\n",
                "\t-- WHERE Clause cannot contain aggregate function\tHAVING Clause can contain aggregate function\n",
                "\t-- WHERE Clause can be used with SELECT, UPDATE, DELETE statement.\tHAVING Clause can only be used with SELECT statement.\n",
                "\t-- WHERE Clause is used before GROUP BY Clause\tHAVING Clause is used after GROUP BY Clause\n",
                "\t-- WHERE Clause is used with single row function like UPPER, LOWER etc.\tHAVING Clause is used with multiple row function like SUM, COUNT etc.\n",
                "\n",
                "\t"
            ],
            "metadata": {
                "azdata_cell_guid": "dcdb4b15-0281-448d-9fcc-d61f3053fef1"
            },
            "outputs": [],
            "execution_count": null
        }
    ]
}